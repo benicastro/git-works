{
 "cells": [
  {
   "cell_type": "markdown",
   "id": "fefbee33",
   "metadata": {},
   "source": [
    "# Using Git Locally"
   ]
  },
  {
   "cell_type": "markdown",
   "id": "3dc1cad8",
   "metadata": {},
   "source": [
    "***"
   ]
  },
  {
   "cell_type": "markdown",
   "id": "5b227c45",
   "metadata": {},
   "source": [
    "\n",
    "\n",
    "    - In this module, you’ll dive into advanced Git interactions by skipping the staging area for small code changes, and understand how Git uses the HEAD alias to represent checked-out snapshots. Next, you’ll explore how to move and remove files before finally getting a cheat sheet to help you in your Git explorations! The next step of your learning will include how to undo changes before committing and how to amend commits once they’re submitted. Finally, you’ll be able to identify errors in commits that were submitted a while back. In the final section of this module, you’ll explore the concept of branching and merging. You’ll learn what a branch is, how to create one, and how they work in harmony with you and your code. Once you’re comfortable with branching, you’ll dive into merging, how it works with branched data, and how to deal with merge conflicts.\n"
   ]
  },
  {
   "cell_type": "markdown",
   "id": "b6c50471",
   "metadata": {},
   "source": [
    "***"
   ]
  },
  {
   "cell_type": "markdown",
   "id": "12ed5156",
   "metadata": {},
   "source": [
    "### Learning Objectives\n",
    "\n",
    "\n",
    "    - Skip the staging area to delete and move files within Git\n",
    "    - Delete and rename files in a repository\n",
    "    - Amend and roll back commits\n",
    "    - Explain the concept of branching and merging\n",
    "    - Create new branches\n",
    "    - Use merging to combine branched data\n",
    "    - Manage and handle merge conflicts"
   ]
  },
  {
   "cell_type": "markdown",
   "id": "8985ef8b",
   "metadata": {},
   "source": [
    "***"
   ]
  },
  {
   "cell_type": "markdown",
   "id": "568fc759",
   "metadata": {},
   "source": [
    "### Advanced Git Interaction"
   ]
  },
  {
   "cell_type": "markdown",
   "id": "29da8511",
   "metadata": {},
   "source": [
    "```\n",
    "git commit -a\n",
    "```"
   ]
  },
  {
   "cell_type": "markdown",
   "id": "9e7e39be",
   "metadata": {},
   "source": [
    "- This command is a shortcut to stage any changes to tracked files and commit them in one step."
   ]
  },
  {
   "cell_type": "markdown",
   "id": "09514407",
   "metadata": {},
   "source": [
    "- Git uses the **HEAD** alias to represent the currently checked-out snapshot of your project."
   ]
  },
  {
   "cell_type": "markdown",
   "id": "9bd4294a",
   "metadata": {},
   "source": [
    "```\n",
    "git log -p\n",
    "```"
   ]
  },
  {
   "cell_type": "markdown",
   "id": "9289c8ba",
   "metadata": {},
   "source": [
    "- The p flag comes from patch, and using this flag gives us the patch that was created."
   ]
  },
  {
   "cell_type": "markdown",
   "id": "036eebe1",
   "metadata": {},
   "source": [
    "- Taking the commit ID, git show will show information about the commit and its associated patch."
   ]
  },
  {
   "cell_type": "markdown",
   "id": "2030da6d",
   "metadata": {},
   "source": [
    "```\n",
    "git show ...\n",
    "git log --stat ...\n",
    "```"
   ]
  },
  {
   "cell_type": "markdown",
   "id": "a21f43a9",
   "metadata": {},
   "source": [
    "- The --stat will cause git log to show some stats about the changes in the commit, like which files were changed and how many lines were added or removed."
   ]
  },
  {
   "cell_type": "markdown",
   "id": "1edc34ce",
   "metadata": {},
   "source": [
    "```\n",
    "git diff\n",
    "git diff --staged\n",
    "```"
   ]
  },
  {
   "cell_type": "markdown",
   "id": "63525bd6",
   "metadata": {},
   "source": [
    "```\n",
    "git add -p\n",
    "```"
   ]
  },
  {
   "cell_type": "markdown",
   "id": "023a2dcf",
   "metadata": {},
   "source": [
    "- The p flag lets git show us the change being added and asks us if we want to stage it or not."
   ]
  },
  {
   "cell_type": "markdown",
   "id": "310750a7",
   "metadata": {},
   "source": [
    "```\n",
    "git rm ... [removing files]\n",
    "git mv ... ... [rename files]\n",
    "```"
   ]
  },
  {
   "cell_type": "markdown",
   "id": "82b3e6a2",
   "metadata": {},
   "source": []
  },
  {
   "cell_type": "markdown",
   "id": "9657eaa8",
   "metadata": {},
   "source": [
    "- Inside this file, we'll specify rules to tell git which files to skip for the current repo."
   ]
  },
  {
   "cell_type": "markdown",
   "id": "d5e28c37",
   "metadata": {},
   "source": []
  },
  {
   "cell_type": "markdown",
   "id": "555609b9",
   "metadata": {},
   "source": []
  },
  {
   "cell_type": "markdown",
   "id": "4e17b443",
   "metadata": {},
   "source": []
  },
  {
   "cell_type": "markdown",
   "id": "f2cb5a8c",
   "metadata": {},
   "source": []
  },
  {
   "cell_type": "markdown",
   "id": "54b090bb",
   "metadata": {},
   "source": []
  },
  {
   "cell_type": "markdown",
   "id": "6c443243",
   "metadata": {},
   "source": []
  },
  {
   "cell_type": "markdown",
   "id": "c522e2f7",
   "metadata": {},
   "source": []
  },
  {
   "cell_type": "markdown",
   "id": "972efccd",
   "metadata": {},
   "source": []
  },
  {
   "cell_type": "markdown",
   "id": "ec17c14a",
   "metadata": {},
   "source": []
  },
  {
   "cell_type": "markdown",
   "id": "2ac4bda7",
   "metadata": {},
   "source": []
  },
  {
   "cell_type": "markdown",
   "id": "e01fd517",
   "metadata": {},
   "source": []
  },
  {
   "cell_type": "markdown",
   "id": "739df24d",
   "metadata": {},
   "source": []
  },
  {
   "cell_type": "markdown",
   "id": "83dde08b",
   "metadata": {},
   "source": []
  },
  {
   "cell_type": "markdown",
   "id": "70f9af7c",
   "metadata": {},
   "source": []
  }
 ],
 "metadata": {
  "kernelspec": {
   "display_name": "Python 3 (ipykernel)",
   "language": "python",
   "name": "python3"
  },
  "language_info": {
   "codemirror_mode": {
    "name": "ipython",
    "version": 3
   },
   "file_extension": ".py",
   "mimetype": "text/x-python",
   "name": "python",
   "nbconvert_exporter": "python",
   "pygments_lexer": "ipython3",
   "version": "3.9.13"
  }
 },
 "nbformat": 4,
 "nbformat_minor": 5
}
