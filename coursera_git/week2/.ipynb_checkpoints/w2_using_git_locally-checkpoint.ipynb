{
 "cells": [
  {
   "cell_type": "markdown",
   "id": "fefbee33",
   "metadata": {},
   "source": [
    "# Using Git Locally"
   ]
  },
  {
   "cell_type": "markdown",
   "id": "3dc1cad8",
   "metadata": {},
   "source": [
    "***"
   ]
  },
  {
   "cell_type": "markdown",
   "id": "5b227c45",
   "metadata": {},
   "source": [
    "\n",
    "\n",
    "    - In this module, you’ll dive into advanced Git interactions by skipping the staging area for small code changes, and understand how Git uses the HEAD alias to represent checked-out snapshots. Next, you’ll explore how to move and remove files before finally getting a cheat sheet to help you in your Git explorations! The next step of your learning will include how to undo changes before committing and how to amend commits once they’re submitted. Finally, you’ll be able to identify errors in commits that were submitted a while back. In the final section of this module, you’ll explore the concept of branching and merging. You’ll learn what a branch is, how to create one, and how they work in harmony with you and your code. Once you’re comfortable with branching, you’ll dive into merging, how it works with branched data, and how to deal with merge conflicts.\n"
   ]
  },
  {
   "cell_type": "markdown",
   "id": "b6c50471",
   "metadata": {},
   "source": [
    "***"
   ]
  },
  {
   "cell_type": "markdown",
   "id": "12ed5156",
   "metadata": {},
   "source": [
    "### Learning Objectives\n",
    "\n",
    "\n",
    "    - Skip the staging area to delete and move files within Git\n",
    "    - Delete and rename files in a repository\n",
    "    - Amend and roll back commits\n",
    "    - Explain the concept of branching and merging\n",
    "    - Create new branches\n",
    "    - Use merging to combine branched data\n",
    "    - Manage and handle merge conflicts"
   ]
  },
  {
   "cell_type": "markdown",
   "id": "dc2c676d",
   "metadata": {},
   "source": [
    "***"
   ]
  },
  {
   "cell_type": "markdown",
   "id": "0bb08556",
   "metadata": {},
   "source": [
    "### Advanced Git Interaction"
   ]
  },
  {
   "cell_type": "markdown",
   "id": "d7c849d4",
   "metadata": {},
   "source": [
    "```\n",
    "git commit -a\n",
    "```"
   ]
  },
  {
   "cell_type": "markdown",
   "id": "a54e7f86",
   "metadata": {},
   "source": [
    "- This command is a shortcut to stage any changes to tracked files and commit them in one step."
   ]
  },
  {
   "cell_type": "markdown",
   "id": "561fe725",
   "metadata": {},
   "source": [
    "- Git uses the **HEAD** alias to represent the currently checked-out snapshot of your project."
   ]
  },
  {
   "cell_type": "markdown",
   "id": "89747638",
   "metadata": {},
   "source": [
    "```\n",
    "git log -p\n",
    "```"
   ]
  },
  {
   "cell_type": "markdown",
   "id": "bffc3d8b",
   "metadata": {},
   "source": [
    "- The p flag comes from patch, and using this flag gives us the patch that was created."
   ]
  },
  {
   "cell_type": "markdown",
   "id": "a276067d",
   "metadata": {},
   "source": [
    "- Taking the commit ID, git show will show information about the commit and its associated patch."
   ]
  },
  {
   "cell_type": "markdown",
   "id": "78a7bc75",
   "metadata": {},
   "source": [
    "```\n",
    "git show ...\n",
    "git log --stat ...\n",
    "```"
   ]
  },
  {
   "cell_type": "markdown",
   "id": "0bf1b225",
   "metadata": {},
   "source": [
    "- The --stat will cause git log to show some stats about the changes in the commit, like which files were changed and how many lines were added or removed."
   ]
  },
  {
   "cell_type": "markdown",
   "id": "2ecb74af",
   "metadata": {},
   "source": [
    "```\n",
    "git diff\n",
    "```"
   ]
  },
  {
   "cell_type": "markdown",
   "id": "bf7fc9af",
   "metadata": {},
   "source": [
    "```\n",
    "git add -p\n",
    "```"
   ]
  },
  {
   "cell_type": "markdown",
   "id": "908261e6",
   "metadata": {},
   "source": [
    "- The p flag lets git show us the change being added and asks us if we want to stage it or not."
   ]
  },
  {
   "cell_type": "markdown",
   "id": "235e90ad",
   "metadata": {},
   "source": []
  },
  {
   "cell_type": "markdown",
   "id": "57fdce69",
   "metadata": {},
   "source": []
  },
  {
   "cell_type": "markdown",
   "id": "6ec072f2",
   "metadata": {},
   "source": []
  },
  {
   "cell_type": "markdown",
   "id": "1663d7f5",
   "metadata": {},
   "source": []
  },
  {
   "cell_type": "markdown",
   "id": "0c778bb8",
   "metadata": {},
   "source": []
  },
  {
   "cell_type": "markdown",
   "id": "2e81fe20",
   "metadata": {},
   "source": []
  },
  {
   "cell_type": "markdown",
   "id": "b528b639",
   "metadata": {},
   "source": []
  },
  {
   "cell_type": "markdown",
   "id": "182d4d21",
   "metadata": {},
   "source": []
  },
  {
   "cell_type": "markdown",
   "id": "31fcc540",
   "metadata": {},
   "source": []
  },
  {
   "cell_type": "markdown",
   "id": "0a0956d6",
   "metadata": {},
   "source": []
  },
  {
   "cell_type": "markdown",
   "id": "2fd8e130",
   "metadata": {},
   "source": []
  },
  {
   "cell_type": "markdown",
   "id": "b8bb78fb",
   "metadata": {},
   "source": []
  },
  {
   "cell_type": "markdown",
   "id": "3541beff",
   "metadata": {},
   "source": []
  },
  {
   "cell_type": "markdown",
   "id": "715113a0",
   "metadata": {},
   "source": []
  },
  {
   "cell_type": "markdown",
   "id": "a8da31e7",
   "metadata": {},
   "source": []
  },
  {
   "cell_type": "markdown",
   "id": "9e8db1b0",
   "metadata": {},
   "source": []
  },
  {
   "cell_type": "markdown",
   "id": "db985996",
   "metadata": {},
   "source": []
  }
 ],
 "metadata": {
  "kernelspec": {
   "display_name": "Python 3 (ipykernel)",
   "language": "python",
   "name": "python3"
  },
  "language_info": {
   "codemirror_mode": {
    "name": "ipython",
    "version": 3
   },
   "file_extension": ".py",
   "mimetype": "text/x-python",
   "name": "python",
   "nbconvert_exporter": "python",
   "pygments_lexer": "ipython3",
   "version": "3.9.13"
  }
 },
 "nbformat": 4,
 "nbformat_minor": 5
}
