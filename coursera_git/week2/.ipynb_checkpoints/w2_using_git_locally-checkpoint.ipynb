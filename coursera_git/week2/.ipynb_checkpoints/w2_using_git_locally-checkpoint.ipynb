{
 "cells": [
  {
   "cell_type": "markdown",
   "id": "fefbee33",
   "metadata": {},
   "source": [
    "# Using Git Locally"
   ]
  },
  {
   "cell_type": "markdown",
   "id": "3dc1cad8",
   "metadata": {},
   "source": [
    "***"
   ]
  },
  {
   "cell_type": "markdown",
   "id": "5b227c45",
   "metadata": {},
   "source": [
    "\n",
    "\n",
    "    - In this module, you’ll dive into advanced Git interactions by skipping the staging area for small code changes, and understand how Git uses the HEAD alias to represent checked-out snapshots. Next, you’ll explore how to move and remove files before finally getting a cheat sheet to help you in your Git explorations! The next step of your learning will include how to undo changes before committing and how to amend commits once they’re submitted. Finally, you’ll be able to identify errors in commits that were submitted a while back. In the final section of this module, you’ll explore the concept of branching and merging. You’ll learn what a branch is, how to create one, and how they work in harmony with you and your code. Once you’re comfortable with branching, you’ll dive into merging, how it works with branched data, and how to deal with merge conflicts.\n"
   ]
  },
  {
   "cell_type": "markdown",
   "id": "b6c50471",
   "metadata": {},
   "source": [
    "***"
   ]
  },
  {
   "cell_type": "markdown",
   "id": "12ed5156",
   "metadata": {},
   "source": [
    "### Learning Objectives\n",
    "\n",
    "\n",
    "    - Skip the staging area to delete and move files within Git\n",
    "    - Delete and rename files in a repository\n",
    "    - Amend and roll back commits\n",
    "    - Explain the concept of branching and merging\n",
    "    - Create new branches\n",
    "    - Use merging to combine branched data\n",
    "    - Manage and handle merge conflicts"
   ]
  },
  {
   "cell_type": "markdown",
   "id": "d54d9e0f",
   "metadata": {},
   "source": [
    "***"
   ]
  },
  {
   "cell_type": "markdown",
   "id": "7a88ddfe",
   "metadata": {},
   "source": [
    "### Advanced Git Interaction"
   ]
  },
  {
   "cell_type": "markdown",
   "id": "016f4c44",
   "metadata": {},
   "source": [
    "```\n",
    "git commit -a\n",
    "```"
   ]
  },
  {
   "cell_type": "markdown",
   "id": "06a6e6d3",
   "metadata": {},
   "source": [
    "- This command is a shortcut to stage any changes to tracked files and commit them in one step."
   ]
  },
  {
   "cell_type": "markdown",
   "id": "020ab928",
   "metadata": {},
   "source": [
    "- Git uses the **HEAD** alias to represent the currently checked-out snapshot of your project."
   ]
  },
  {
   "cell_type": "markdown",
   "id": "f8b4e43e",
   "metadata": {},
   "source": [
    "```\n",
    "git log -p\n",
    "```"
   ]
  },
  {
   "cell_type": "markdown",
   "id": "678a6109",
   "metadata": {},
   "source": [
    "- The p flag comes from patch, and using this flag gives us the patch that was created."
   ]
  },
  {
   "cell_type": "markdown",
   "id": "0929d02c",
   "metadata": {},
   "source": [
    "```\n",
    "git show ...\n",
    "```"
   ]
  },
  {
   "cell_type": "markdown",
   "id": "95e31c72",
   "metadata": {},
   "source": []
  },
  {
   "cell_type": "markdown",
   "id": "949c490a",
   "metadata": {},
   "source": []
  },
  {
   "cell_type": "markdown",
   "id": "97b1a3d1",
   "metadata": {},
   "source": []
  },
  {
   "cell_type": "markdown",
   "id": "81edb89c",
   "metadata": {},
   "source": []
  },
  {
   "cell_type": "markdown",
   "id": "ab631a8b",
   "metadata": {},
   "source": []
  },
  {
   "cell_type": "markdown",
   "id": "bce39973",
   "metadata": {},
   "source": []
  },
  {
   "cell_type": "markdown",
   "id": "b87796eb",
   "metadata": {},
   "source": []
  },
  {
   "cell_type": "markdown",
   "id": "501fb119",
   "metadata": {},
   "source": []
  },
  {
   "cell_type": "markdown",
   "id": "38a86c0e",
   "metadata": {},
   "source": []
  },
  {
   "cell_type": "markdown",
   "id": "5a9ec94e",
   "metadata": {},
   "source": []
  },
  {
   "cell_type": "markdown",
   "id": "07a5eb1c",
   "metadata": {},
   "source": []
  },
  {
   "cell_type": "markdown",
   "id": "4043ccf7",
   "metadata": {},
   "source": []
  },
  {
   "cell_type": "markdown",
   "id": "6ff42b6e",
   "metadata": {},
   "source": []
  },
  {
   "cell_type": "markdown",
   "id": "140dde3a",
   "metadata": {},
   "source": []
  },
  {
   "cell_type": "markdown",
   "id": "0aaea486",
   "metadata": {},
   "source": []
  },
  {
   "cell_type": "markdown",
   "id": "049f884d",
   "metadata": {},
   "source": []
  },
  {
   "cell_type": "markdown",
   "id": "c58b74ea",
   "metadata": {},
   "source": []
  },
  {
   "cell_type": "markdown",
   "id": "e7bfe960",
   "metadata": {},
   "source": []
  },
  {
   "cell_type": "markdown",
   "id": "7892231f",
   "metadata": {},
   "source": []
  },
  {
   "cell_type": "markdown",
   "id": "4182bd4f",
   "metadata": {},
   "source": []
  },
  {
   "cell_type": "markdown",
   "id": "b636f429",
   "metadata": {},
   "source": []
  }
 ],
 "metadata": {
  "kernelspec": {
   "display_name": "Python 3 (ipykernel)",
   "language": "python",
   "name": "python3"
  },
  "language_info": {
   "codemirror_mode": {
    "name": "ipython",
    "version": 3
   },
   "file_extension": ".py",
   "mimetype": "text/x-python",
   "name": "python",
   "nbconvert_exporter": "python",
   "pygments_lexer": "ipython3",
   "version": "3.9.13"
  }
 },
 "nbformat": 4,
 "nbformat_minor": 5
}
