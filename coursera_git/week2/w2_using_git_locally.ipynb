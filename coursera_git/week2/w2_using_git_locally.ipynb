{
 "cells": [
  {
   "cell_type": "markdown",
   "id": "fefbee33",
   "metadata": {},
   "source": [
    "# Using Git Locally"
   ]
  },
  {
   "cell_type": "markdown",
   "id": "3dc1cad8",
   "metadata": {},
   "source": [
    "***"
   ]
  },
  {
   "cell_type": "markdown",
   "id": "5b227c45",
   "metadata": {},
   "source": [
    "\n",
    "\n",
    "    - In this module, you’ll dive into advanced Git interactions by skipping the staging area for small code changes, and understand how Git uses the HEAD alias to represent checked-out snapshots. Next, you’ll explore how to move and remove files before finally getting a cheat sheet to help you in your Git explorations! The next step of your learning will include how to undo changes before committing and how to amend commits once they’re submitted. Finally, you’ll be able to identify errors in commits that were submitted a while back. In the final section of this module, you’ll explore the concept of branching and merging. You’ll learn what a branch is, how to create one, and how they work in harmony with you and your code. Once you’re comfortable with branching, you’ll dive into merging, how it works with branched data, and how to deal with merge conflicts.\n"
   ]
  },
  {
   "cell_type": "markdown",
   "id": "b6c50471",
   "metadata": {},
   "source": [
    "***"
   ]
  },
  {
   "cell_type": "markdown",
   "id": "12ed5156",
   "metadata": {},
   "source": [
    "### Learning Objectives\n",
    "\n",
    "\n",
    "    - Skip the staging area to delete and move files within Git\n",
    "    - Delete and rename files in a repository\n",
    "    - Amend and roll back commits\n",
    "    - Explain the concept of branching and merging\n",
    "    - Create new branches\n",
    "    - Use merging to combine branched data\n",
    "    - Manage and handle merge conflicts"
   ]
  },
  {
   "cell_type": "markdown",
   "id": "2e8c9daf",
   "metadata": {},
   "source": [
    "***"
   ]
  },
  {
   "cell_type": "markdown",
   "id": "4a188945",
   "metadata": {},
   "source": [
    "### Advanced Git Interaction"
   ]
  },
  {
   "cell_type": "markdown",
   "id": "b2d62f43",
   "metadata": {},
   "source": [
    "```\n",
    "git commit -a\n",
    "```"
   ]
  },
  {
   "cell_type": "markdown",
   "id": "5fc1f870",
   "metadata": {},
   "source": [
    "- This command is a shortcut to stage any changes to tracked files and commit them in one step."
   ]
  },
  {
   "cell_type": "markdown",
   "id": "a0f7a692",
   "metadata": {},
   "source": [
    "- Git uses the **HEAD** alias to represent the currently checked-out snapshot of your project."
   ]
  },
  {
   "cell_type": "markdown",
   "id": "86d656ba",
   "metadata": {},
   "source": [
    "```\n",
    "git log -p\n",
    "```"
   ]
  },
  {
   "cell_type": "markdown",
   "id": "b0b7bca4",
   "metadata": {},
   "source": [
    "- The p flag comes from patch, and using this flag gives us the patch that was created."
   ]
  },
  {
   "cell_type": "markdown",
   "id": "3a87a27d",
   "metadata": {},
   "source": [
    "- Taking the commit ID, git show will show information about the commit and its associated patch."
   ]
  },
  {
   "cell_type": "markdown",
   "id": "25947df9",
   "metadata": {},
   "source": [
    "```\n",
    "git show ...\n",
    "git log --stat ...\n",
    "```"
   ]
  },
  {
   "cell_type": "markdown",
   "id": "94a97a90",
   "metadata": {},
   "source": [
    "- The --stat will cause git log to show some stats about the changes in the commit, like which files were changed and how many lines were added or removed."
   ]
  },
  {
   "cell_type": "markdown",
   "id": "af395cf0",
   "metadata": {},
   "source": [
    "```\n",
    "git diff\n",
    "git diff --staged\n",
    "```"
   ]
  },
  {
   "cell_type": "markdown",
   "id": "ed1e40b1",
   "metadata": {},
   "source": [
    "```\n",
    "git add -p\n",
    "```"
   ]
  },
  {
   "cell_type": "markdown",
   "id": "af157e1d",
   "metadata": {},
   "source": [
    "- The p flag lets git show us the change being added and asks us if we want to stage it or not."
   ]
  },
  {
   "cell_type": "markdown",
   "id": "86c41799",
   "metadata": {},
   "source": [
    "```\n",
    "git rm ... [removing files]\n",
    "git mv ... ... [rename files]\n",
    "```"
   ]
  },
  {
   "cell_type": "markdown",
   "id": "bf49469c",
   "metadata": {},
   "source": [
    "```\n",
    "```"
   ]
  },
  {
   "cell_type": "markdown",
   "id": "db31265c",
   "metadata": {},
   "source": [
    "- Inside this file, we'll specify rules to tell git which files to skip for the current repo."
   ]
  },
  {
   "cell_type": "markdown",
   "id": "44ed0346",
   "metadata": {},
   "source": []
  },
  {
   "cell_type": "markdown",
   "id": "764d4fb5",
   "metadata": {},
   "source": []
  },
  {
   "cell_type": "markdown",
   "id": "f64cf12d",
   "metadata": {},
   "source": []
  },
  {
   "cell_type": "markdown",
   "id": "c4deff7f",
   "metadata": {},
   "source": []
  },
  {
   "cell_type": "markdown",
   "id": "59292fac",
   "metadata": {},
   "source": []
  },
  {
   "cell_type": "markdown",
   "id": "9b7a6530",
   "metadata": {},
   "source": []
  },
  {
   "cell_type": "markdown",
   "id": "047b9f0f",
   "metadata": {},
   "source": []
  },
  {
   "cell_type": "markdown",
   "id": "9de28f16",
   "metadata": {},
   "source": []
  },
  {
   "cell_type": "markdown",
   "id": "6d7defb8",
   "metadata": {},
   "source": []
  },
  {
   "cell_type": "markdown",
   "id": "947a6c2a",
   "metadata": {},
   "source": []
  },
  {
   "cell_type": "markdown",
   "id": "731eec99",
   "metadata": {},
   "source": []
  },
  {
   "cell_type": "markdown",
   "id": "37d0c629",
   "metadata": {},
   "source": []
  },
  {
   "cell_type": "markdown",
   "id": "8a6d709b",
   "metadata": {},
   "source": []
  },
  {
   "cell_type": "markdown",
   "id": "ba5233cf",
   "metadata": {},
   "source": []
  }
 ],
 "metadata": {
  "kernelspec": {
   "display_name": "Python 3 (ipykernel)",
   "language": "python",
   "name": "python3"
  },
  "language_info": {
   "codemirror_mode": {
    "name": "ipython",
    "version": 3
   },
   "file_extension": ".py",
   "mimetype": "text/x-python",
   "name": "python",
   "nbconvert_exporter": "python",
   "pygments_lexer": "ipython3",
   "version": "3.9.13"
  }
 },
 "nbformat": 4,
 "nbformat_minor": 5
}
