{
 "cells": [
  {
   "cell_type": "markdown",
   "id": "fefbee33",
   "metadata": {},
   "source": [
    "# Using Git Locally"
   ]
  },
  {
   "cell_type": "markdown",
   "id": "3dc1cad8",
   "metadata": {},
   "source": [
    "***"
   ]
  },
  {
   "cell_type": "markdown",
   "id": "5b227c45",
   "metadata": {},
   "source": [
    "\n",
    "\n",
    "    - In this module, you’ll dive into advanced Git interactions by skipping the staging area for small code changes, and understand how Git uses the HEAD alias to represent checked-out snapshots. Next, you’ll explore how to move and remove files before finally getting a cheat sheet to help you in your Git explorations! The next step of your learning will include how to undo changes before committing and how to amend commits once they’re submitted. Finally, you’ll be able to identify errors in commits that were submitted a while back. In the final section of this module, you’ll explore the concept of branching and merging. You’ll learn what a branch is, how to create one, and how they work in harmony with you and your code. Once you’re comfortable with branching, you’ll dive into merging, how it works with branched data, and how to deal with merge conflicts.\n"
   ]
  },
  {
   "cell_type": "markdown",
   "id": "b6c50471",
   "metadata": {},
   "source": [
    "***"
   ]
  },
  {
   "cell_type": "markdown",
   "id": "12ed5156",
   "metadata": {},
   "source": [
    "### Learning Objectives\n",
    "\n",
    "\n",
    "    - Skip the staging area to delete and move files within Git\n",
    "    - Delete and rename files in a repository\n",
    "    - Amend and roll back commits\n",
    "    - Explain the concept of branching and merging\n",
    "    - Create new branches\n",
    "    - Use merging to combine branched data\n",
    "    - Manage and handle merge conflicts"
   ]
  },
  {
   "cell_type": "markdown",
   "id": "58617853",
   "metadata": {},
   "source": [
    "***"
   ]
  },
  {
   "cell_type": "markdown",
   "id": "a532d3d0",
   "metadata": {},
   "source": [
    "### Advanced Git Interaction"
   ]
  },
  {
   "cell_type": "markdown",
   "id": "2fe372b1",
   "metadata": {},
   "source": [
    "```\n",
    "git commit -a\n",
    "```"
   ]
  },
  {
   "cell_type": "markdown",
   "id": "b46b9e8b",
   "metadata": {},
   "source": [
    "- This command is a shortcut to stage any changes to tracked files and commit them in one step."
   ]
  },
  {
   "cell_type": "markdown",
   "id": "20dae04a",
   "metadata": {},
   "source": [
    "- Git uses the **HEAD** alias to represent the currently checked-out snapshot of your project."
   ]
  },
  {
   "cell_type": "markdown",
   "id": "65905e14",
   "metadata": {},
   "source": [
    "```\n",
    "git log -p\n",
    "```"
   ]
  },
  {
   "cell_type": "markdown",
   "id": "b541c15a",
   "metadata": {},
   "source": [
    "- The p flag comes from patch, and using this flag gives us the patch that was created."
   ]
  },
  {
   "cell_type": "markdown",
   "id": "7684a512",
   "metadata": {},
   "source": [
    "- Taking the commit ID, git show will show information about the commit and its associated patch."
   ]
  },
  {
   "cell_type": "markdown",
   "id": "79107c77",
   "metadata": {},
   "source": [
    "```\n",
    "git show ...\n",
    "git log --stat ...\n",
    "```"
   ]
  },
  {
   "cell_type": "markdown",
   "id": "8665e7fd",
   "metadata": {},
   "source": [
    "- The --stat will cause git log to show some stats about the changes in the commit, like which files were changed and how many lines were added or removed."
   ]
  },
  {
   "cell_type": "markdown",
   "id": "917337f4",
   "metadata": {},
   "source": []
  },
  {
   "cell_type": "markdown",
   "id": "36525ef3",
   "metadata": {},
   "source": []
  },
  {
   "cell_type": "markdown",
   "id": "d9f3a0c2",
   "metadata": {},
   "source": []
  },
  {
   "cell_type": "markdown",
   "id": "e07a9da7",
   "metadata": {},
   "source": []
  },
  {
   "cell_type": "markdown",
   "id": "b5105466",
   "metadata": {},
   "source": []
  },
  {
   "cell_type": "markdown",
   "id": "fb3599d4",
   "metadata": {},
   "source": []
  },
  {
   "cell_type": "markdown",
   "id": "5dcaf1de",
   "metadata": {},
   "source": []
  },
  {
   "cell_type": "markdown",
   "id": "38497bec",
   "metadata": {},
   "source": []
  },
  {
   "cell_type": "markdown",
   "id": "d779053d",
   "metadata": {},
   "source": []
  },
  {
   "cell_type": "markdown",
   "id": "85ca2d02",
   "metadata": {},
   "source": []
  },
  {
   "cell_type": "markdown",
   "id": "fd8c2a79",
   "metadata": {},
   "source": []
  },
  {
   "cell_type": "markdown",
   "id": "cdfdcd25",
   "metadata": {},
   "source": []
  },
  {
   "cell_type": "markdown",
   "id": "7f48c97b",
   "metadata": {},
   "source": []
  },
  {
   "cell_type": "markdown",
   "id": "3b810dd1",
   "metadata": {},
   "source": []
  },
  {
   "cell_type": "markdown",
   "id": "dcb6dd09",
   "metadata": {},
   "source": []
  },
  {
   "cell_type": "markdown",
   "id": "60255475",
   "metadata": {},
   "source": []
  },
  {
   "cell_type": "markdown",
   "id": "922b50e7",
   "metadata": {},
   "source": []
  },
  {
   "cell_type": "markdown",
   "id": "ec69e2b6",
   "metadata": {},
   "source": []
  },
  {
   "cell_type": "markdown",
   "id": "bff0a6a6",
   "metadata": {},
   "source": []
  },
  {
   "cell_type": "markdown",
   "id": "237f5288",
   "metadata": {},
   "source": []
  }
 ],
 "metadata": {
  "kernelspec": {
   "display_name": "Python 3 (ipykernel)",
   "language": "python",
   "name": "python3"
  },
  "language_info": {
   "codemirror_mode": {
    "name": "ipython",
    "version": 3
   },
   "file_extension": ".py",
   "mimetype": "text/x-python",
   "name": "python",
   "nbconvert_exporter": "python",
   "pygments_lexer": "ipython3",
   "version": "3.9.13"
  }
 },
 "nbformat": 4,
 "nbformat_minor": 5
}
