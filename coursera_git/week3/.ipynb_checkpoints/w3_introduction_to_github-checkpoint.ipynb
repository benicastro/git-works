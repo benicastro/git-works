{
 "cells": [
  {
   "cell_type": "markdown",
   "id": "5b137923",
   "metadata": {},
   "source": [
    "# Working with Remotes"
   ]
  },
  {
   "cell_type": "markdown",
   "id": "174130d6",
   "metadata": {},
   "source": [
    "***"
   ]
  },
  {
   "cell_type": "markdown",
   "id": "cdecd103",
   "metadata": {},
   "source": [
    "    - In this module, you’ll be introduced to GitHub and learn how it works with Git. You’ll create new repositories and clone those repositories onto your computer. Next, we’ll explain what a remote repository is, how we can work with them, and how we can host them. You’ll get familiar with commands like modify, stage, and commit, which will be used for local changes, as well as the fetch command, which can pull any changes from remote repositories. Our final lesson will focus on learning about conflicts. This will allow you to explore the concepts of pull-merge-push workflows, pushing remote branches and rebasing your changes."
   ]
  },
  {
   "cell_type": "markdown",
   "id": "2b4eb14d",
   "metadata": {},
   "source": [
    "***"
   ]
  },
  {
   "cell_type": "markdown",
   "id": "7311aac5",
   "metadata": {},
   "source": [
    "### Learning Objectives\n",
    "\n",
    "\n",
    "    - Describe the advantages of using separate branches\n",
    "    - Utilize the git rebase command\n",
    "    - Describe what GitHub is and how to interact with it\n",
    "    - Explain what a remote repository is\n",
    "    - Utilize remote repositories, fetch new changes, and update local repositories\n",
    "    - Utilize the pull-merge-push workflow to address conflicts\n",
    "    - Push remote branches so code can be viewed and tested by collaborators\n",
    "    - Explain what rebasing is"
   ]
  },
  {
   "cell_type": "code",
   "execution_count": null,
   "id": "4c1a17f3",
   "metadata": {},
   "outputs": [],
   "source": []
  },
  {
   "cell_type": "code",
   "execution_count": null,
   "id": "2340eeb8",
   "metadata": {},
   "outputs": [],
   "source": []
  },
  {
   "cell_type": "code",
   "execution_count": null,
   "id": "09dd5b01",
   "metadata": {},
   "outputs": [],
   "source": []
  },
  {
   "cell_type": "code",
   "execution_count": null,
   "id": "7cb69a2b",
   "metadata": {},
   "outputs": [],
   "source": []
  },
  {
   "cell_type": "code",
   "execution_count": null,
   "id": "284ca599",
   "metadata": {},
   "outputs": [],
   "source": []
  },
  {
   "cell_type": "code",
   "execution_count": null,
   "id": "5d491369",
   "metadata": {},
   "outputs": [],
   "source": []
  }
 ],
 "metadata": {
  "kernelspec": {
   "display_name": "Python 3 (ipykernel)",
   "language": "python",
   "name": "python3"
  },
  "language_info": {
   "codemirror_mode": {
    "name": "ipython",
    "version": 3
   },
   "file_extension": ".py",
   "mimetype": "text/x-python",
   "name": "python",
   "nbconvert_exporter": "python",
   "pygments_lexer": "ipython3",
   "version": "3.9.13"
  }
 },
 "nbformat": 4,
 "nbformat_minor": 5
}
