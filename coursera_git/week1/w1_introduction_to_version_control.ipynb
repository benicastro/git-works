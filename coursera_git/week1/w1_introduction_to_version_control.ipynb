{
 "cells": [
  {
   "cell_type": "markdown",
   "id": "07de990f",
   "metadata": {},
   "source": [
    "# Introduction to Version Control"
   ]
  },
  {
   "cell_type": "markdown",
   "id": "d48e70f4",
   "metadata": {},
   "source": [
    "**------------------------------------------------------------------------------------------------------------------------------------------------------------------------------------------------------------------**"
   ]
  },
  {
   "cell_type": "markdown",
   "id": "77dd9b97",
   "metadata": {},
   "source": [
    "    - In this module, you'll be introduced to the concept of version control, which will make managing and rolling back your code look super easy. You’ll learn how to differentiate between files and the tools at your disposal to make this happen. Next, you'll be introduced to Git and how you can leverage that platform to improve your coding abilities. Once you’ve got a grasp on what Git is, you’ll install it and start using it to create and clone code repositories. Last up, you’ll deep dive into Git in order to get more familiar with the different tools and commands it has to offer."
   ]
  },
  {
   "cell_type": "markdown",
   "id": "2f185016",
   "metadata": {},
   "source": [
    "**------------------------------------------------------------------------------------------------------------------------------------------------------------------------------------------------------------------**"
   ]
  },
  {
   "cell_type": "markdown",
   "id": "b8a3feae",
   "metadata": {},
   "source": [
    "### Learning Objectives\n",
    "\n",
    "    - Describe the concept of version control and why it is important to use\n",
    "    - Utilize the diff and patch commands to automate differentiating and editing files\n",
    "    - Explain what Git is and its benefits of use\n",
    "    - Install Git on local machine\n",
    "    - Utilize Git to create and clone repositories, add code, check the status of code, and commit code"
   ]
  },
  {
   "cell_type": "markdown",
   "id": "d7bff603",
   "metadata": {},
   "source": [
    "**------------------------------------------------------------------------------------------------------------------------------------------------------------------------------------------------------------------**"
   ]
  },
  {
   "cell_type": "markdown",
   "id": "e9c34691",
   "metadata": {},
   "source": [
    "- A version control system allows us to keep track of when and who did what changes to our files. Those can be code, configuration, images, or whatever else we need to track."
   ]
  },
  {
   "cell_type": "code",
   "execution_count": null,
   "id": "cbf47dba",
   "metadata": {},
   "outputs": [],
   "source": []
  },
  {
   "cell_type": "code",
   "execution_count": null,
   "id": "e66a3f64",
   "metadata": {},
   "outputs": [],
   "source": []
  },
  {
   "cell_type": "code",
   "execution_count": null,
   "id": "eeed1c0f",
   "metadata": {},
   "outputs": [],
   "source": []
  },
  {
   "cell_type": "code",
   "execution_count": null,
   "id": "8c3cd340",
   "metadata": {},
   "outputs": [],
   "source": []
  }
 ],
 "metadata": {
  "kernelspec": {
   "display_name": "Python 3 (ipykernel)",
   "language": "python",
   "name": "python3"
  },
  "language_info": {
   "codemirror_mode": {
    "name": "ipython",
    "version": 3
   },
   "file_extension": ".py",
   "mimetype": "text/x-python",
   "name": "python",
   "nbconvert_exporter": "python",
   "pygments_lexer": "ipython3",
   "version": "3.9.13"
  }
 },
 "nbformat": 4,
 "nbformat_minor": 5
}
